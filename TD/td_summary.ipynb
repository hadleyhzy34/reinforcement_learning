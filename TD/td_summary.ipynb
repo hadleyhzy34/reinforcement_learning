{
 "cells": [
  {
   "cell_type": "code",
   "execution_count": 100,
   "source": [
    "import numpy as np\n",
    "import gym\n",
    "import random\n",
    "import matplotlib.pyplot as plt\n",
    "\n",
    "env = gym.make(\"Taxi-v3\").env\n",
    "env.render()"
   ],
   "outputs": [
    {
     "output_type": "stream",
     "name": "stdout",
     "text": [
      "+---------+\n",
      "|R: | : :\u001b[35mG\u001b[0m|\n",
      "| : | : : |\n",
      "| : :\u001b[43m \u001b[0m: : |\n",
      "| | : | : |\n",
      "|Y| : |\u001b[34;1mB\u001b[0m: |\n",
      "+---------+\n",
      "\n"
     ]
    }
   ],
   "metadata": {}
  },
  {
   "cell_type": "code",
   "execution_count": 101,
   "source": [
    "print(f'action space is :{env.action_space}')\n",
    "print(f'state space is: {env.observation_space}')"
   ],
   "outputs": [
    {
     "output_type": "stream",
     "name": "stdout",
     "text": [
      "action space is :Discrete(6)\n",
      "state space is: Discrete(500)\n"
     ]
    }
   ],
   "metadata": {}
  },
  {
   "cell_type": "code",
   "execution_count": 102,
   "source": [
    "env.reset()\n",
    "env.s = env.encode(3,1,1,1)\n",
    "print(f'state: {env.s}')\n",
    "env.render()"
   ],
   "outputs": [
    {
     "output_type": "stream",
     "name": "stdout",
     "text": [
      "state: 325\n",
      "+---------+\n",
      "|R: | : :\u001b[35m\u001b[34;1mG\u001b[0m\u001b[0m|\n",
      "| : | : : |\n",
      "| : : : : |\n",
      "| |\u001b[43m \u001b[0m: | : |\n",
      "|Y| : |B: |\n",
      "+---------+\n",
      "\n"
     ]
    }
   ],
   "metadata": {}
  },
  {
   "cell_type": "code",
   "execution_count": 103,
   "source": [
    "env.reset()\n",
    "env.s = env.encode(0,4,4,1)\n",
    "print(f'state: {env.s}')\n",
    "env.render()\n",
    "print(f'state: {env.P[env.s]}')"
   ],
   "outputs": [
    {
     "output_type": "stream",
     "name": "stdout",
     "text": [
      "state: 97\n",
      "+---------+\n",
      "|R: | : :\u001b[35m\u001b[42mG\u001b[0m\u001b[0m|\n",
      "| : | : : |\n",
      "| : : : : |\n",
      "| | : | : |\n",
      "|Y| : |B: |\n",
      "+---------+\n",
      "\n",
      "state: {0: [(1.0, 197, -1, False)], 1: [(1.0, 97, -1, False)], 2: [(1.0, 97, -1, False)], 3: [(1.0, 77, -1, False)], 4: [(1.0, 97, -10, False)], 5: [(1.0, 85, 20, True)]}\n"
     ]
    }
   ],
   "metadata": {}
  },
  {
   "cell_type": "code",
   "execution_count": 104,
   "source": [
    "# initialize q table\n",
    "q = np.zeros((env.observation_space.n, env.action_space.n))\n",
    "q_pre = np.zeros((env.observation_space.n, env.action_space.n)) # to check convergence when training\n",
    "print(f'current q table shape is: {q.shape}')"
   ],
   "outputs": [
    {
     "output_type": "stream",
     "name": "stdout",
     "text": [
      "current q table shape is: (500, 6)\n"
     ]
    }
   ],
   "metadata": {}
  },
  {
   "cell_type": "code",
   "execution_count": 105,
   "source": [
    "# hyper parameters\n",
    "alpha = 0.5\n",
    "gamma = 0.95\n",
    "epsilon = 0.1"
   ],
   "outputs": [],
   "metadata": {}
  },
  {
   "cell_type": "code",
   "execution_count": 106,
   "source": [
    "def epsilon_greedy_policy(env, state, q, epsilon):\n",
    "    '''\n",
    "    epsilon greedy policy for q learning to generate actions\n",
    "    '''\n",
    "    if random.uniform(0,1) < epsilon:\n",
    "        return env.action_space.sample()\n",
    "    else:\n",
    "        return np.argmax(q[state])"
   ],
   "outputs": [],
   "metadata": {}
  },
  {
   "cell_type": "code",
   "execution_count": 107,
   "source": [
    "def update_q_table(q, pre_state, action, reward, next_state, alpha, gamma):\n",
    "    '''\n",
    "    \n",
    "    '''\n",
    "    next_max = np.max(q[next_state]) # max state-action value for next state\n",
    "    # print(f'current status is: {type(q[pre_state,action])},{type(alpha)},{type(reward)},{type(gamma)},{type(next_max)}')\n",
    "    q[pre_state,action] = q[pre_state,action] + alpha * (reward + gamma * next_max - q[pre_state,action])"
   ],
   "outputs": [],
   "metadata": {}
  },
  {
   "cell_type": "code",
   "execution_count": 108,
   "source": [
    "#q learning\n",
    "reward_record = []\n",
    "error_record = []\n",
    "# loop for each episode:\n",
    "for episode in range(5000):\n",
    "    r = 0\n",
    "    state = env.reset()\n",
    "    while True:# loop for each step of episode\n",
    "        # choose A from S using policy derived from Q(e.g, epsilon greedy policy)\n",
    "        action = epsilon_greedy_policy(env,state,q,epsilon)\n",
    "        # take action A, observe R, S'\n",
    "        next_state, reward, done, _ = env.step(action)\n",
    "        # update Q(S,A)\n",
    "        update_q_table(q,state,action,reward,next_state,alpha,gamma)\n",
    "        # S<--S'\n",
    "        state = next_state\n",
    "        r += reward\n",
    "        if done:\n",
    "            break\n",
    "    \n",
    "    reward_record.append(r)\n",
    "    error = 0\n",
    "    for i in range(q.shape[0]):\n",
    "        error = error + np.sum(np.abs(q[i]-q_pre[i]))\n",
    "        # print(f'{np.abs(q[i]-q_pre[i])},{np.sum(np.abs(q[i]-q_pre[i]))}')\n",
    "    error_record.append(error)\n",
    "    q_pre = np.copy(q)\n",
    "\n",
    "    if episode%100 == 0:\n",
    "        print(f'{episode}th episode: {r}, {error}')\n",
    "\n",
    "#close game env\n",
    "env.close()\n",
    "\n",
    "#plot diagram\n",
    "plt.plot(list(range(5000)),reward_record)\n",
    "plt.show()\n",
    "\n",
    "plt.plot(list(range(5000)),error_record)\n",
    "plt.show()"
   ],
   "outputs": [
    {
     "output_type": "stream",
     "name": "stdout",
     "text": [
      "0th episode: -380, 204.1125\n",
      "100th episode: -58, 28.76235754732324\n",
      "200th episode: -33, 17.17742883872971\n",
      "300th episode: -44, 19.575776445081992\n",
      "400th episode: -9, 20.82151767388497\n",
      "500th episode: -19, 13.677422873353452\n",
      "600th episode: -18, 4.120429146789581\n",
      "700th episode: -8, 7.861292894339364\n",
      "800th episode: 9, 4.682758553997112\n",
      "900th episode: 9, 9.9539153766383\n",
      "1000th episode: -8, 4.076411943019178\n",
      "1100th episode: 3, 1.4343891229187982\n",
      "1200th episode: -5, 6.386549210659015\n",
      "1300th episode: 1, 5.021947655797182\n",
      "1400th episode: 7, 1.15625\n",
      "1500th episode: 12, 0.0\n",
      "1600th episode: 6, 1.6019829841834423\n",
      "1700th episode: 8, 4.756263393579374e-06\n",
      "1800th episode: -8, 8.185112720863478\n",
      "1900th episode: 7, 0.03544961954374948\n",
      "2000th episode: 6, 0.0009948501413846178\n",
      "2100th episode: -27, 0.5164146752423546\n",
      "2200th episode: 6, 0.04584046922513807\n",
      "2300th episode: 10, 0.008896764670115243\n",
      "2400th episode: 9, 0.00914584215112857\n",
      "2500th episode: -6, 2.7698063536793955\n",
      "2600th episode: 7, 0.8974363563523351\n",
      "2700th episode: 4, 0.038452182082812314\n",
      "2800th episode: -15, 2.7447591451728766\n",
      "2900th episode: -5, 2.5979938792492394\n",
      "3000th episode: 8, 0.001927386566423106\n",
      "3100th episode: 4, 5.216358147411938\n",
      "3200th episode: 7, 1.888941913996689e-08\n",
      "3300th episode: 11, 0.0\n",
      "3400th episode: 12, 0.0\n",
      "3500th episode: 0, 2.236327479172236\n",
      "3600th episode: 9, 0.1696583036532182\n",
      "3700th episode: -4, 1.0455547009540893\n",
      "3800th episode: 8, 0.0\n",
      "3900th episode: 6, 0.8850752527752821\n",
      "4000th episode: 7, 3.2591819804306255e-05\n",
      "4100th episode: 7, 3.4340308374680717e-12\n",
      "4200th episode: 9, 0.0\n",
      "4300th episode: -3, 0.47531390838976173\n",
      "4400th episode: 13, 0.0\n",
      "4500th episode: -4, 0.0026104826541750725\n",
      "4600th episode: 4, 0.00389071547760822\n",
      "4700th episode: 3, 0.08985656156246191\n",
      "4800th episode: 4, 0.03621889753786239\n",
      "4900th episode: -2, 0.035525313772820866\n"
     ]
    },
    {
     "output_type": "display_data",
     "data": {
      "text/plain": [
       "<Figure size 432x288 with 1 Axes>"
      ],
      "image/png": "[encoded data removed]"
     },
     "metadata": {
      "needs_background": "light"
     }
    },
    {
     "output_type": "display_data",
     "data": {
      "text/plain": [
       "<Figure size 432x288 with 1 Axes>"
      ],
      "image/png": "[encoded data removed]"
     },
     "metadata": {
      "needs_background": "light"
     }
    }
   ],
   "metadata": {}
  },
  {
   "cell_type": "code",
   "execution_count": 109,
   "source": [
    "def epsilon_greedy_policy_sarsa(env, state, sarsa, epsilon):\n",
    "    '''\n",
    "    epsilon greedy policy for q learning to generate actions\n",
    "    '''\n",
    "    if random.uniform(0,1) < epsilon:\n",
    "        return env.action_space.sample()\n",
    "    else:\n",
    "        return np.argmax(sarsa[state])"
   ],
   "outputs": [],
   "metadata": {}
  },
  {
   "cell_type": "code",
   "execution_count": 110,
   "source": [
    "def update_sarsa_table(sarsa, state, action, reward, next_state, next_action, alpha, gamma):\n",
    "    '''\n",
    "    update sarsa state-action pair value, main difference from q learning is that it uses epsilon greedy policy\n",
    "    return action\n",
    "    '''\n",
    "    next_max = sarsa[next_state,next_action] # corresponding action-state value to current action\n",
    "\n",
    "    # print(f'current status is: {type(q[pre_state,action])},{type(alpha)},{type(reward)},{type(gamma)},{type(next_max)}')\n",
    "    sarsa[state,action] = sarsa[state,action] + alpha * (reward + gamma * next_max - sarsa[state,action])"
   ],
   "outputs": [],
   "metadata": {}
  },
  {
   "cell_type": "code",
   "execution_count": 111,
   "source": [
    "env = gym.make(\"Taxi-v3\")\n",
    "# sarsa learning\n",
    "# initialize sarsa table\n",
    "sarsa = np.zeros((env.observation_space.n, env.action_space.n))\n",
    "sarsa_pre = np.zeros((env.observation_space.n, env.action_space.n)) # to check convergence when training\n",
    "\n",
    "sarsa_reward_record = []\n",
    "sarsa_error_record = []\n",
    "# loop for each episode:\n",
    "for episode in range(5000):\n",
    "    r = 0\n",
    "    state = env.reset()\n",
    "    # choose A from S using policy derived from Q(e.g, epsilon greedy policy)\n",
    "    action = epsilon_greedy_policy_sarsa(env, state, sarsa, epsilon)\n",
    "    while True:# loop for each step of episode\n",
    "        # take action A, observe R, S'\n",
    "        next_state, reward, done, _ = env.step(action)\n",
    "        # choose action A' from S' using policy derived from Q(e.g, epsilon greedy policy)\n",
    "        next_action = epsilon_greedy_policy_sarsa(env, state, sarsa, epsilon)\n",
    "        # update Q(S,A)\n",
    "        update_sarsa_table(sarsa, state, action, reward, next_state, next_action, alpha, gamma)\n",
    "        # S<--S'\n",
    "        state = next_state\n",
    "        action = next_action\n",
    "        r += reward\n",
    "        if done:\n",
    "            break\n",
    "    \n",
    "    sarsa_reward_record.append(r)\n",
    "    error = 0\n",
    "    for i in range(sarsa.shape[0]):\n",
    "        error = error + np.sum(np.abs(sarsa[i]-sarsa_pre[i]))\n",
    "        # print(f'{np.abs(q[i]-q_pre[i])},{np.sum(np.abs(q[i]-q_pre[i]))}')\n",
    "    sarsa_error_record.append(error)\n",
    "    sarsa_pre = np.copy(sarsa)\n",
    "\n",
    "    if episode%100 == 0:\n",
    "        print(f'{episode}th episode: {r}, {error}')\n",
    "#close game env\n",
    "env.close()\n",
    "\n",
    "#plot diagram\n",
    "plt.plot(list(range(5000)),sarsa_reward_record)\n",
    "plt.plot(list(range(5000)),reward_record)\n",
    "plt.show()\n",
    "\n",
    "plt.plot(list(range(5000)),sarsa_error_record)\n",
    "plt.plot(list(range(5000)),error_record)\n",
    "plt.show()"
   ],
   "outputs": [
    {
     "output_type": "stream",
     "name": "stdout",
     "text": [
      "0th episode: -596, 253.60540235934457\n",
      "100th episode: -290, 105.81159831776588\n",
      "200th episode: -335, 130.1553511289839\n",
      "300th episode: -335, 101.59733443990976\n",
      "400th episode: -126, 51.18520423035096\n",
      "500th episode: -263, 50.19813478848578\n",
      "600th episode: -380, 95.71756598879409\n",
      "700th episode: -353, 69.5850013749342\n",
      "800th episode: -18, 17.212000456390896\n",
      "900th episode: -236, 22.336926083359117\n",
      "1000th episode: 2, 6.238589528557121\n",
      "1100th episode: -254, 40.45590886994664\n",
      "1200th episode: -16, 27.41289466361926\n",
      "1300th episode: -3, 9.561999749828487\n",
      "1400th episode: -272, 45.54611017369734\n",
      "1500th episode: -1, 6.705358387099539\n",
      "1600th episode: -299, 52.90855653726244\n",
      "1700th episode: -254, 42.24977853828405\n",
      "1800th episode: -299, 68.51281703656416\n",
      "1900th episode: -281, 47.53260394088651\n",
      "2000th episode: -81, 38.01204928606392\n",
      "2100th episode: -133, 45.96095816439928\n",
      "2200th episode: -91, 64.15437862394226\n",
      "2300th episode: -9, 15.86978405865609\n",
      "2400th episode: -4, 10.923999062335403\n",
      "2500th episode: -10, 26.897209863824333\n",
      "2600th episode: -75, 43.20992277248051\n",
      "2700th episode: -12, 17.121571009158483\n",
      "2800th episode: -53, 40.83242697092718\n",
      "2900th episode: -317, 83.74704972852277\n",
      "3000th episode: -245, 48.91941888613952\n",
      "3100th episode: -11, 19.932463451844594\n",
      "3200th episode: -10, 11.369344096177201\n",
      "3300th episode: -45, 32.69894063437511\n",
      "3400th episode: -70, 54.99656248380287\n",
      "3500th episode: -107, 65.92845406085888\n",
      "3600th episode: -14, 17.55283353474406\n",
      "3700th episode: -29, 47.170706983051716\n",
      "3800th episode: -40, 35.10330538023406\n",
      "3900th episode: -66, 19.73322595252816\n",
      "4000th episode: -13, 29.28293675340081\n",
      "4100th episode: -42, 75.69180396274095\n",
      "4200th episode: -6, 10.020352189570374\n",
      "4300th episode: -90, 33.44587803130309\n",
      "4400th episode: -19, 12.463909232779562\n",
      "4500th episode: -30, 26.134048136032938\n",
      "4600th episode: -97, 32.977346194714414\n",
      "4700th episode: -39, 15.684016385409944\n",
      "4800th episode: -12, 15.82700395830578\n",
      "4900th episode: -11, 9.548369019382193\n"
     ]
    },
    {
     "output_type": "display_data",
     "data": {
      "text/plain": [
       "<Figure size 432x288 with 1 Axes>"
      ],
      "image/png": "[encoded data removed]"
     },
     "metadata": {
      "needs_background": "light"
     }
    },
    {
     "output_type": "display_data",
     "data": {
      "text/plain": [
       "<Figure size 432x288 with 1 Axes>"
      ],
      "image/png": "[encoded data removed]"
     },
     "metadata": {
      "needs_background": "light"
     }
    }
   ],
   "metadata": {}
  },
  {
   "cell_type": "code",
   "execution_count": 112,
   "source": [
    "import numpy as np\n",
    "import gym\n",
    "\n",
    "# FrozenLake-v0 gym environment\n",
    "# env = gym.make('FrozenLake-v0')\n",
    "env = gym.make(\"Taxi-v3\")\n",
    "\n",
    "# Parameters\n",
    "epsilon = 0.1\n",
    "total_episodes = 5000\n",
    "# max_steps = 100\n",
    "alpha = 0.1\n",
    "gamma = 0.6\n",
    "  \n",
    "#Initializing the Q-vaue\n",
    "Q = np.zeros((env.observation_space.n, env.action_space.n))\n",
    "Q_pre = np.copy(Q)\n",
    "\n",
    "test_reward = []\n",
    "test_error = []\n",
    "\n",
    "# Function to choose the next action with episolon greedy\n",
    "def choose_action(state):\n",
    "    action=0\n",
    "    if np.random.uniform(0, 1) < epsilon:\n",
    "        action = env.action_space.sample()\n",
    "    else:\n",
    "        action = np.argmax(Q[state])\n",
    "    return action\n",
    "    \n",
    "#Initializing the reward\n",
    "reward=0\n",
    "  \n",
    "# Starting the SARSA learning\n",
    "for episode in range(total_episodes):\n",
    "    # t = 0\n",
    "    state1 = env.reset()\n",
    "    # action1 = choose_action(state1)\n",
    "    action1 = epsilon_greedy_policy_sarsa(env, state1, Q, epsilon)\n",
    "    r = 0\n",
    "    # while t < max_steps:\n",
    "    while True:\n",
    "        # Visualizing the training\n",
    "#         env.render()\n",
    "          \n",
    "        # Getting the next state\n",
    "        state2, reward, done, info = env.step(action1)\n",
    "  \n",
    "        #Choosing the next action\n",
    "        # action2 = choose_action(state2)\n",
    "        action2 = epsilon_greedy_policy_sarsa(env, state2, Q, epsilon)\n",
    "          \n",
    "        #Learning the Q-value\n",
    "        # Q[state1, action1] = Q[state1, action1] + alpha * (reward + gamma * Q[state2, action2] - Q[state1, action1])\n",
    "        update_sarsa_table(Q, state1, action1, reward, state2, action2, alpha, gamma)\n",
    "  \n",
    "        state1 = state2\n",
    "        action1 = action2\n",
    "          \n",
    "        #Updating the respective vaLues\n",
    "        # t += 1\n",
    "        r += reward\n",
    "          \n",
    "        #If at the end of learning process\n",
    "        if done:\n",
    "            break\n",
    "    \n",
    "    test_reward.append(r)\n",
    "    error = 0\n",
    "    for i in range(Q.shape[0]):\n",
    "        error = error + np.sum(np.abs(Q[i]-Q_pre[i]))\n",
    "        # print(f'{np.abs(q[i]-q_pre[i])},{np.sum(np.abs(q[i]-q_pre[i]))}')\n",
    "    test_error.append(error)\n",
    "    Q_pre = np.copy(Q)\n",
    "\n",
    "    if episode%100 == 0:\n",
    "        print(f'current reward is: {r}, {error}')\n",
    "            \n",
    "#close game env\n",
    "env.close()\n",
    "\n",
    "#plot diagram\n",
    "plt.plot(list(range(5000)),reward_record)\n",
    "plt.plot(list(range(5000)),test_reward)\n",
    "plt.show()\n",
    "\n",
    "plt.plot(list(range(5000)),error_record)\n",
    "plt.plot(list(range(5000)),test_error)\n",
    "plt.show()"
   ],
   "outputs": [
    {
     "output_type": "stream",
     "name": "stdout",
     "text": [
      "current reward is: -722, 69.075896\n",
      "current reward is: -245, 17.297628690882945\n",
      "current reward is: 7, 1.682352855659159\n",
      "current reward is: -186, 10.39992729238926\n",
      "current reward is: -249, 11.62472852032828\n",
      "current reward is: -85, 4.423772021360843\n",
      "current reward is: -105, 3.47374131374801\n",
      "current reward is: -236, 3.498127102417844\n",
      "current reward is: -27, 1.7804944872773736\n",
      "current reward is: 15, 0.2679936434891653\n",
      "current reward is: 13, 0.30529641311464856\n",
      "current reward is: -272, 5.180881668668775\n",
      "current reward is: -9, 0.30151078190551006\n",
      "current reward is: -272, 6.444397462837871\n",
      "current reward is: -245, 3.959919868495458\n",
      "current reward is: 15, 0.2951084762823511\n",
      "current reward is: 13, 0.16791076638540686\n",
      "current reward is: 8, 0.21555645930193634\n",
      "current reward is: -132, 3.0198503640630294\n",
      "current reward is: -2, 1.5086556852915733\n",
      "current reward is: -23, 2.387283917363633\n",
      "current reward is: -281, 4.937804849914441\n",
      "current reward is: -245, 2.6556513415302567\n",
      "current reward is: -4, 0.3958377476112972\n",
      "current reward is: -236, 3.0445610513167796\n",
      "current reward is: -254, 3.7434327857844982\n",
      "current reward is: -263, 4.524935975147283\n",
      "current reward is: -236, 4.669885787403295\n",
      "current reward is: 2, 0.5505469341444769\n",
      "current reward is: 3, 0.37815585531088497\n",
      "current reward is: -35, 1.0330134272842204\n",
      "current reward is: -207, 4.013794877192021\n",
      "current reward is: -218, 1.526370795036784\n",
      "current reward is: -8, 0.8948901983432218\n",
      "current reward is: -7, 2.531355185345875\n",
      "current reward is: -12, 2.3408136876706616\n",
      "current reward is: -17, 1.817684112146659\n",
      "current reward is: -133, 3.2092093841341436\n",
      "current reward is: -254, 2.5608994813878243\n",
      "current reward is: -12, 1.7804469415002855\n",
      "current reward is: 5, 0.30920406541972584\n",
      "current reward is: -29, 1.213092723007834\n",
      "current reward is: -13, 1.0495596685653485\n",
      "current reward is: -245, 2.531880480706553\n",
      "current reward is: 8, 0.23920917200917913\n",
      "current reward is: -214, 3.6056834706677026\n",
      "current reward is: -47, 1.5928655028015888\n",
      "current reward is: -254, 2.0198054946621036\n",
      "current reward is: -254, 2.453542007519705\n",
      "current reward is: -24, 0.5829941838638854\n"
     ]
    },
    {
     "output_type": "display_data",
     "data": {
      "text/plain": [
       "<Figure size 432x288 with 1 Axes>"
      ],
      "image/png": "[encoded data removed]"
     },
     "metadata": {
      "needs_background": "light"
     }
    },
    {
     "output_type": "display_data",
     "data": {
      "text/plain": [
       "<Figure size 432x288 with 1 Axes>"
      ],
      "image/png": "[encoded data removed]"
     },
     "metadata": {
      "needs_background": "light"
     }
    }
   ],
   "metadata": {}
  },
  {
   "cell_type": "code",
   "execution_count": 113,
   "source": [
    "#double q learning\n",
    "env = gym.make(\"Taxi-v3\")\n",
    "\n",
    "# initialize q table\n",
    "q1 = np.zeros((env.observation_space.n, env.action_space.n))\n",
    "q2 = np.zeros((env.observation_space.n, env.action_space.n))\n",
    "q1_pre = np.zeros((env.observation_space.n, env.action_space.n)) # to check convergence when training\n",
    "q2_pre = np.zeros((env.observation_space.n, env.action_space.n)) # to check convergence when training\n",
    "\n",
    "# reward and error record\n",
    "d_reward_record = []\n",
    "d_error_record = []\n",
    "\n",
    "# loop for each episode:\n",
    "for episode in range(5000):\n",
    "    r = 0\n",
    "    state = env.reset()\n",
    "    while True:# loop for each step of episode\n",
    "        # choose A from S using policy derived from Q1+Q2(e.g, epsilon greedy policy)\n",
    "        action = epsilon_greedy_policy(env,state,q1+q2,epsilon)\n",
    "        # take action A, observe R, S'\n",
    "        next_state, reward, done, _ = env.step(action)\n",
    "        # with 0.5 probability:\n",
    "        if random.uniform(0,1) < 0.5:\n",
    "            update_q_table(q1,state,action,reward,next_state,alpha,gamma)\n",
    "        else:\n",
    "            update_q_table(q2,state,action,reward,next_state,alpha,gamma)\n",
    "        # S<--S'\n",
    "        state = next_state\n",
    "        r += reward\n",
    "        if done:\n",
    "            break\n",
    "    \n",
    "    d_reward_record.append(r)\n",
    "    error = 0\n",
    "    for i in range(q.shape[0]):\n",
    "        error = error + 0.5 * np.sum(np.abs(q1[i]-q1_pre[i])) + 0.5 * np.sum(np.abs(q2[i]-q2_pre[i]))\n",
    "        # print(f'{np.abs(q[i]-q_pre[i])},{np.sum(np.abs(q[i]-q_pre[i]))}')\n",
    "    d_error_record.append(error)\n",
    "    q1_pre = np.copy(q1)\n",
    "    q2_pre = np.copy(q2)\n",
    "\n",
    "    if episode%100 == 0:\n",
    "        print(f'{episode}th episode: {r}, {error}')\n",
    "\n",
    "#close game env\n",
    "env.close()\n",
    "\n",
    "#plot diagram\n",
    "plt.plot(list(range(5000)),reward_record)\n",
    "plt.plot(list(range(5000)),d_reward_record)\n",
    "plt.show()\n",
    "\n",
    "plt.plot(list(range(5000)),error_record)\n",
    "plt.plot(list(range(5000)),d_error_record)\n",
    "plt.show()"
   ],
   "outputs": [
    {
     "output_type": "stream",
     "name": "stdout",
     "text": [
      "0th episode: -560, 27.774000000000008\n",
      "100th episode: -281, 9.69815363321839\n",
      "200th episode: -254, 6.374670971048766\n",
      "300th episode: -272, 6.831801952501329\n",
      "400th episode: -299, 7.626139618530769\n",
      "500th episode: -105, 1.6585004089985387\n",
      "600th episode: -228, 5.679068040769751\n",
      "700th episode: -78, 1.4521381309763313\n",
      "800th episode: -272, 4.24031521350215\n",
      "900th episode: -229, 3.826944197592831\n",
      "1000th episode: -102, 1.7979046037580888\n",
      "1100th episode: -18, 0.7312604443149989\n",
      "1200th episode: -4, 0.527352238742865\n",
      "1300th episode: -50, 0.6820499673700295\n",
      "1400th episode: -19, 1.4568854496684582\n",
      "1500th episode: -44, 0.3205398310459543\n",
      "1600th episode: -77, 0.9683187895470947\n",
      "1700th episode: -132, 1.4464609542745115\n",
      "1800th episode: -13, 0.11160978975399971\n",
      "1900th episode: -7, 0.48348919183717176\n",
      "2000th episode: -45, 1.1353932026776778\n",
      "2100th episode: -8, 0.5894103169988367\n",
      "2200th episode: -5, 0.5267046164937291\n",
      "2300th episode: -27, 0.7861972175226208\n",
      "2400th episode: 8, 0.01830113530108876\n",
      "2500th episode: -8, 0.2556128904766025\n",
      "2600th episode: 9, 0.04231724156220354\n",
      "2700th episode: -56, 0.7354378732020361\n",
      "2800th episode: 5, 0.045569793413639315\n",
      "2900th episode: -42, 0.6351692384832177\n",
      "3000th episode: -1, 0.3667345340793494\n",
      "3100th episode: 1, 0.07984347685581253\n",
      "3200th episode: -6, 0.06359617602090559\n",
      "3300th episode: 1, 0.0265254319665284\n",
      "3400th episode: 3, 0.013211008961622417\n",
      "3500th episode: 12, 0.002267733900091301\n",
      "3600th episode: 10, 0.0009033933770819513\n",
      "3700th episode: -15, 0.4175534947621775\n",
      "3800th episode: -59, 0.26554469836180994\n",
      "3900th episode: 4, 0.006587609626684338\n",
      "4000th episode: -3, 0.013351846111702342\n",
      "4100th episode: 13, 6.506742103823404e-05\n",
      "4200th episode: 1, 0.11807292837681552\n",
      "4300th episode: 7, 0.04188096109759459\n",
      "4400th episode: -9, 0.3273245341640499\n",
      "4500th episode: -25, 0.3388935331613657\n",
      "4600th episode: -58, 0.27746542572946226\n",
      "4700th episode: 6, 0.01863574811419999\n",
      "4800th episode: 8, 0.023618081587934908\n",
      "4900th episode: 12, 9.122643775177908e-05\n"
     ]
    },
    {
     "output_type": "display_data",
     "data": {
      "text/plain": [
       "<Figure size 432x288 with 1 Axes>"
      ],
      "image/png": "[encoded data removed]"
     },
     "metadata": {
      "needs_background": "light"
     }
    },
    {
     "output_type": "display_data",
     "data": {
      "text/plain": [
       "<Figure size 432x288 with 1 Axes>"
      ],
      "image/png": "[encoded data removed]"
     },
     "metadata": {
      "needs_background": "light"
     }
    }
   ],
   "metadata": {}
  },
  {
   "cell_type": "code",
   "execution_count": null,
   "source": [
    "#monte carlo method\n",
    "env = gym.make(\"Taxi-v3\")\n",
    "\n",
    "def get_probs(q, env, epsilon):\n",
    "    '''\n",
    "    get the probability of taking the best known action according to epsion\n",
    "    '''\n",
    "    actions = np.argmax(q,dims=1)\n",
    "    policy_s = np.ones((env.observation_space.n, env.action_space.n))*epsilon/env.action_space.n\n",
    "    policy_s[:,actions] = 1 - epsilon + (epsilon / env.action_space.n)\n",
    "    return policy_s\n",
    "\n",
    "def update_Q(env, episodes, Q, q):\n",
    "    for (s,a,r) in episodes:\n",
    "        sum = 0\n",
    "        for x in Q[(s,a)]:\n",
    "            sum += x\n",
    "        avg = sum/len(Q[(s,a)])\n",
    "        q[s,a] = avg\n",
    "\n",
    "def run(env, Q, q, epsilon, gamma,r):\n",
    "    episodes = []\n",
    "    state = env.reset()\n",
    "    G = 0\n",
    "    while True:# loop for each step of episode\n",
    "        probs = get_probs(q, env, epsilon) # get the current behavior policy\n",
    "        action = np.random.choice(np.arange(env.action_space.n),p=probs)\\\n",
    "            if state in Q else env.action_space.sample()\n",
    "        \n",
    "        next_state, reward, done, _ = env.step(action)\n",
    "        episodes.append((state, action, reward))\n",
    "\n",
    "        G = gamma * G + reward\n",
    "        Q[(state, action)].append(G)\n",
    "\n",
    "        r += reward\n",
    "\n",
    "        state = next_state\n",
    "        if done:\n",
    "            break\n",
    "    return episodes\n",
    "\n",
    "# initialize q table\n",
    "q = np.zeros((env.observation_space.n, env.action_space.n))\n",
    "Q = {}\n",
    "\n",
    "# reward and error record\n",
    "q_reward_record = []\n",
    "q_error_record = []\n",
    "\n",
    "# loop for each episode:\n",
    "for episode in range(5000):\n",
    "    r = 0\n",
    "    state = env.reset()\n",
    "    episodes = run(env,Q,epsilon,gamma,r)\n",
    "    update_Q(env,episodes,Q,q)\n",
    "    \n",
    "    if episode%100 == 0:\n",
    "        print(f'{episode}th episode: {r}')\n",
    "\n",
    "#     d_reward_record.append(r)\n",
    "#     error = 0\n",
    "#     for i in range(q.shape[0]):\n",
    "#         error = error + 0.5 * np.sum(np.abs(q1[i]-q1_pre[i])) + 0.5 * np.sum(np.abs(q2[i]-q2_pre[i]))\n",
    "#         # print(f'{np.abs(q[i]-q_pre[i])},{np.sum(np.abs(q[i]-q_pre[i]))}')\n",
    "#     d_error_record.append(error)\n",
    "#     q1_pre = np.copy(q1)\n",
    "#     q2_pre = np.copy(q2)\n",
    "\n",
    "#     if episode%100 == 0:\n",
    "#         print(f'{episode}th episode: {r}, {error}')\n",
    "\n",
    "# #close game env\n",
    "# env.close()\n",
    "\n",
    "# #plot diagram\n",
    "# plt.plot(list(range(5000)),reward_record)\n",
    "# plt.plot(list(range(5000)),d_reward_record)\n",
    "# plt.show()\n",
    "\n",
    "# plt.plot(list(range(5000)),error_record)\n",
    "# plt.plot(list(range(5000)),d_error_record)\n",
    "# plt.show()"
   ],
   "outputs": [],
   "metadata": {}
  }
 ],
 "metadata": {
  "orig_nbformat": 4,
  "language_info": {
   "name": "python",
   "version": "3.6.13",
   "mimetype": "text/x-python",
   "codemirror_mode": {
    "name": "ipython",
    "version": 3
   },
   "pygments_lexer": "ipython3",
   "nbconvert_exporter": "python",
   "file_extension": ".py"
  },
  "kernelspec": {
   "name": "python3",
   "display_name": "Python 3.6.13 64-bit ('env': conda)"
  },
  "interpreter": {
   "hash": "f38d13940331e776a67d851eebbae5e1e050c7a7e8d18dd9188ae084b14e479c"
  }
 },
 "nbformat": 4,
 "nbformat_minor": 2
}