{
 "cells": [
  {
   "cell_type": "markdown",
   "metadata": {},
   "source": [
    "# Improvements and Modifications to DQN\n",
    "### 授课老师：Alex\n",
    "&nbsp; \n",
    "\n",
    "# 1 前言\n",
    "## 1.1课程回顾\n",
    "\n",
    "\n",
    "上节课我们讨论的内容有：\n",
    "    \n",
    "  * Double-DQN实验设计及结果\n",
    "  * Double-DQN实践方式\n",
    "  * Prioritized Experience Replay的几个方面：\n",
    "      * 如何设置重要性$p_i$: rank-based和proportion-based，并分析了复杂度\n",
    "      * Importance Sampling修正权重\n",
    "      * Efficient Implement\n",
    "  * Duel Structure及实现的细节\n"
   ]
  },
  {
   "cell_type": "markdown",
   "metadata": {},
   "source": [
    "## 1.2 本课知识树\n",
    "\n",
    "这节课建立在大家已经对上次的DQN的代码比较熟悉的基础之上，我们将介绍如何将这三篇论文的新的内容融入过去的代码中\n",
    "\n",
    "这节课主要的顺序是：\n",
    "\n",
    "  * 基础知识介绍/补充：bisect包\n",
    "  * 基础知识介绍/补充：Sum Tree数据结构\n",
    "  * Replay Buffer : 基类示范\n",
    "  * Duel Network Structure代码实现\n",
    "  * Rank-based Prioritized Experience Replay : 设计思路分析\n",
    "  * Proportion-based Prioritized Experience Replay : 设计思路分析\n",
    "  * 代码修改：\n",
    "    * Double DQN\n",
    "    * Duel Network Structure\n",
    "    * 一般的Replay Buffer\n",
    "    * Prioritized Experience Replay"
   ]
  },
  {
   "cell_type": "markdown",
   "metadata": {},
   "source": [
    "# 2 准备工作\n",
    "## 2.1项目环境配置\n",
    "\n",
    "以下是我使用的主要的包和版本\n",
    "\n",
    "* Python3.7\n",
    "* jupyter notebook\n",
    "* torch           1.4.0\n",
    "* numpy           1.17.0\n",
    "* gym             0.17.1\n",
    "  * gym 需要 atari 和 box2d dependency"
   ]
  },
  {
   "cell_type": "markdown",
   "metadata": {},
   "source": [
    "# 3 项目代码结构\n",
    "\n",
    "## 3.1 config.py\n",
    "    \n",
    "    存放所有训练需要的超参数，方便统一调参\n",
    "\n",
    "\n",
    "## 3.2 networks.py\n",
    "    \n",
    "    构建使用的神经网络类\n",
    "    \n",
    "## 3.3 utils.py\n",
    "\n",
    "    构建一些辅助性质的函数和类，包括图像预处理，Sum Tree数据结构\n",
    "    \n",
    "## 3.4 ReplayBuffer.py\n",
    "\n",
    "    储存不同的Replay Buffer类\n",
    "    \n",
    "## 3.4 agent.py\n",
    " \n",
    "    构建使用Deep Q-Learning的agent类\n",
    "    \n",
    "## 3.5 train_ram.py\n",
    "\n",
    "    主要训练agent的文件之一，针对RAM输入进行训练\n",
    "    \n",
    "## 3.6 train_visual.py\n",
    "\n",
    "    主要训练agent的文件之一，针对VISUAL输入进行训练"
   ]
  },
  {
   "cell_type": "markdown",
   "metadata": {},
   "source": [
    "# 4 算法模块及细节\n",
    "\n",
    "## 4.1 bisect包的使用\n",
    "\n",
    "* 1 Background Knowledge\n",
    "\n",
    "## 4.2 Sum Tree\n",
    "\n",
    "* 1 Background Knowledge\n",
    "\n",
    "## 4.3 Duel Network Structure\n",
    "\n",
    "* 1 Background Knowledge\n",
    "\n",
    "## 4.4 Replay Buffer基本功能\n",
    "\n",
    "* 2 Replay Buffer\n",
    "\n",
    "## 4.5 Rank-based PER结构分析\n",
    "\n",
    "* 2 Replay Buffer\n",
    "\n",
    "## 4.6 Proportion-based PER结构分析\n",
    "\n",
    "* 2 Replay Buffer\n",
    "\n",
    "## 4.7 Double DQN代码修改\n",
    "\n",
    "* 3 Code Modification\n",
    "\n",
    "## 4.8 Duel DQN代码修改\n",
    "\n",
    "* 3 Code Modification\n",
    "\n",
    "## 4.9 Replay Buffer代码修改\n",
    "\n",
    "* 3 Code Modification\n",
    "\n",
    "## 4.10 Prioritized Experience Replay代码修改\n",
    "\n",
    "* 3 Code Modification\n",
    "\n",
    "## 4.11 整体流程\n",
    "\n",
    "* Pycharam　"
   ]
  },
  {
   "cell_type": "markdown",
   "metadata": {},
   "source": [
    "# 5 作业\n",
    "\n",
    "`【代码实践】` \n",
    "  * 1.尝试修改网络结构为2015年DQN的网络结构（也是本次课程PPT中介绍的结构）\n",
    "  * 2.尝试在代码中加入对于$\\beta$参数的调整\n",
    "  * 3.尝试自己重写agent.learn()部分\n",
    "  * 4.尝试优化Rank-based Prioritized Experience Replay的代码"
   ]
  }
 ],
 "metadata": {
  "colab": {
   "authorship_tag": "ABX9TyMaJPtlMHur6DonwEyZLw5h",
   "collapsed_sections": [],
   "name": "data process and load.ipynb",
   "provenance": []
  },
  "kernelspec": {
   "display_name": "Python 3",
   "language": "python",
   "name": "python3"
  },
  "language_info": {
   "codemirror_mode": {
    "name": "ipython",
    "version": 3
   },
   "file_extension": ".py",
   "mimetype": "text/x-python",
   "name": "python",
   "nbconvert_exporter": "python",
   "pygments_lexer": "ipython3",
   "version": "3.6.8"
  }
 },
 "nbformat": 4,
 "nbformat_minor": 1
}
