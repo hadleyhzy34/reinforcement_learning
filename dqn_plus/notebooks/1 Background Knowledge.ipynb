{
 "cells": [
  {
   "cell_type": "markdown",
   "metadata": {},
   "source": [
    "# Background Preparation"
   ]
  },
  {
   "cell_type": "markdown",
   "metadata": {},
   "source": [
    "\n",
    "**目录：**\n",
    "1. bisect Module\n",
    "2. Sum Tree\n",
    "3. Duel Structure\n",
    "---"
   ]
  },
  {
   "cell_type": "markdown",
   "metadata": {},
   "source": [
    "## 1 bisect Module\n",
    "### 1) 二分查找\n",
    "\n",
    "bisect是python自带的二分查找的包，默认应用于increasing array。\n",
    "\n",
    "increasing array:\n",
    "    \n",
    "    如果一个array,`arr`满足 `arr[i1]` $\\le$ `arr[i2]` if `i1` $\\le$ `i2`\n",
    "    \n",
    "二分查找:\n",
    "\n",
    "    一种在有序数列中查找一个元素的高效的方法，每次将数组以中间为分割点，分为两部分，然后进入相应的部分进行查找。\n",
    "    \n",
    "    以increasing array为例，要在`arr`中寻找`num`，先比较`num`和`arr[mid]`，如果`arr[mid]`$>$`num`，则进入前半部分寻找，否则进入后半部分。这样搜索每个数的复杂度都是$O(\\log(n))$\n",
    "      \n",
    "      \n",
    "### 2）Important functions\n",
    "\n",
    "这里只介绍两个比较重要的函数：`bisect.bisect_left()`和`bisect.bisect_right()/bisect.bisect()`，两者的唯一区别是，遇到相同的数值时，`bisect.bisect_left`会返回最左端的index，`bisect.bisect_right()/bisect.bisect()`会返回最右端的index+1"
   ]
  },
  {
   "cell_type": "code",
   "execution_count": 1,
   "metadata": {
    "colab": {
     "base_uri": "https://localhost:8080/",
     "height": 265
    },
    "colab_type": "code",
    "executionInfo": {
     "elapsed": 1116,
     "status": "ok",
     "timestamp": 1586088546550,
     "user": {
      "displayName": "Rongfan Liao",
      "photoUrl": "",
      "userId": "07803922812103577726"
     },
     "user_tz": -480
    },
    "id": "eo9f_BRVPpcK",
    "outputId": "81a110d9-b1e7-46b6-f000-76100709da4e"
   },
   "outputs": [
    {
     "data": {
      "text/plain": [
       "(2, 5, 5)"
      ]
     },
     "execution_count": 1,
     "metadata": {},
     "output_type": "execute_result"
    }
   ],
   "source": [
    "import bisect\n",
    "\n",
    "a = [0,1,2,2,2,3,4]\n",
    "bisect.bisect_left(a, 2), bisect.bisect(a, 2), bisect.bisect_right(a, 2)"
   ]
  },
  {
   "cell_type": "code",
   "execution_count": 2,
   "metadata": {},
   "outputs": [
    {
     "data": {
      "text/plain": [
       "5"
      ]
     },
     "execution_count": 2,
     "metadata": {},
     "output_type": "execute_result"
    }
   ],
   "source": [
    "bisect.bisect_left(a, 2.5)"
   ]
  },
  {
   "cell_type": "code",
   "execution_count": 3,
   "metadata": {},
   "outputs": [
    {
     "data": {
      "text/plain": [
       "7"
      ]
     },
     "execution_count": 3,
     "metadata": {},
     "output_type": "execute_result"
    }
   ],
   "source": [
    "bisect.bisect(a, 4.5)"
   ]
  },
  {
   "cell_type": "markdown",
   "metadata": {},
   "source": [
    "### 3) bisect with list\n",
    "\n",
    "如果需要在一个increasing array中插入一个元素并使得array仍然保持升序，可以将刚才的函数和`list`的`insert`方法结合使用"
   ]
  },
  {
   "cell_type": "code",
   "execution_count": 4,
   "metadata": {},
   "outputs": [
    {
     "data": {
      "text/plain": [
       "[0, 1, 2, 2, 2, 2.1, 3, 4]"
      ]
     },
     "execution_count": 4,
     "metadata": {},
     "output_type": "execute_result"
    }
   ],
   "source": [
    "def list_insert(arr, num):\n",
    "    ind = bisect.bisect_left(arr, num)\n",
    "    arr.insert(ind, num)\n",
    "\n",
    "a = [0,1,2,2,2,3,4]\n",
    "list_insert(a, 2.1)\n",
    "a"
   ]
  },
  {
   "cell_type": "code",
   "execution_count": 5,
   "metadata": {},
   "outputs": [
    {
     "data": {
      "text/plain": [
       "[-1, 0, 1, 2, 2, 2, 2.1, 3, 4]"
      ]
     },
     "execution_count": 5,
     "metadata": {},
     "output_type": "execute_result"
    }
   ],
   "source": [
    "list_insert(a, -1)\n",
    "a"
   ]
  },
  {
   "cell_type": "code",
   "execution_count": 6,
   "metadata": {},
   "outputs": [
    {
     "data": {
      "text/plain": [
       "[-1, 0, 1, 2, 2, 2, 2.1, 3, 4, 5]"
      ]
     },
     "execution_count": 6,
     "metadata": {},
     "output_type": "execute_result"
    }
   ],
   "source": [
    "list_insert(a, 5)\n",
    "a"
   ]
  },
  {
   "cell_type": "markdown",
   "metadata": {},
   "source": [
    "## 2 Sum Tree\n",
    "\n",
    "### 1) Concept\n",
    "\n",
    "Sum Tree有多个中文名称，我习惯叫它“线段树”。\n",
    "\n",
    "Sum Tree的结构是二叉树，每个节点要么是叶子节点，要么有两个子节点。Sum Tree的叶子节点储存数，所有的非叶子节点的值是其对应的叶子节点的和，如下图所示：([reference : image link](https://www.fcodelabs.com/2019/03/18/Sum-Tree-Introduction/))\n",
    "\n",
    "<img src=\"./imgs/SumTree1.png\"  width=\"700\" height=\"700\" align=\"bottom\" />\n",
    "\n",
    "为了便于理解，可以认为叶子节点表示的是一个一个相连的区间，每个叶子节点的数值表示该区间的长度，此时则可以轻易地从根节点出发寻找任意数值所在的区间对应的叶子节点：([reference : image link](https://www.fcodelabs.com/2019/03/18/Sum-Tree-Introduction/))\n",
    "\n",
    "<img src=\"./imgs/SumTree2.png\"  width=\"700\" height=\"700\" align=\"bottom\" />\n"
   ]
  },
  {
   "cell_type": "markdown",
   "metadata": {},
   "source": [
    "### 2) Analysis\n",
    "\n",
    "实现Sum Tree主要需要实现两个功能：查找和更新\n",
    "\n",
    "查找即寻找一个数所在的位置，这个比较简单，直接比较左右的值然后进入相应的节点即可\n",
    "\n",
    "更新则需要从叶子节点向上更新，由于每个节点是期两个子节点的和，只需计算变化量然后一点点向上更新至根节点即可\n",
    "\n",
    "\n",
    "如果专门为了树的节点建一个类`TreeNode`，则该类需要四个属性：\n",
    "  * left : 该节点的左子树\n",
    "  * right : 该节点的右子树\n",
    "  * val : 该节点对应的值\n",
    "  * parent : 该节点的父节点\n",
    "\n",
    "这是可行的，但是有更简单的方法，请看下面的代码："
   ]
  },
  {
   "cell_type": "code",
   "execution_count": 7,
   "metadata": {},
   "outputs": [],
   "source": [
    "class SumTree:\n",
    "    \n",
    "    def __init__(self, capacity):\n",
    "        \n",
    "        self.capacity = capacity\n",
    "        # the first capacity-1 positions are not leaves\n",
    "        self.vals = [0 for _ in range(2*capacity - 1)] # think about why if you are not familiar with this\n",
    "        \n",
    "    def retrive(self, num):\n",
    "        '''\n",
    "        This function find the first index whose cumsum is no smaller than num\n",
    "        '''\n",
    "        ind = 0 # search from root\n",
    "        while ind < self.capacity-1: # not a leaf\n",
    "            left = 2*ind + 1\n",
    "            right = left + 1\n",
    "            if num > self.vals[left]: # the sum of the whole left tree is not large enouth\n",
    "                num -= self.vals[left] # think about why?\n",
    "                ind = right\n",
    "            else: # search in the left tree\n",
    "                ind = left\n",
    "        return ind - self.capacity + 1\n",
    "    \n",
    "    def update(self, delta, ind):\n",
    "        '''\n",
    "        Change the value at ind by delta, and update the tree\n",
    "        Notice that this ind should be the index in real memory part, instead of the ind in self.vals\n",
    "        '''\n",
    "        ind += self.capacity - 1\n",
    "        while True:\n",
    "            self.vals[ind] += delta\n",
    "            if ind == 0:\n",
    "                break\n",
    "            ind -= 1\n",
    "            ind //= 2"
   ]
  },
  {
   "cell_type": "markdown",
   "metadata": {},
   "source": [
    "### 计算Sum Tree需要的节点个数\n",
    "\n",
    "假设一共有$n$个数据点，现在要计算Sum Tree一共有多少节点\n",
    "\n",
    "先思考：完全二叉树的情况$n$满足的条件:\n",
    "  * 如果数据在第$k$层，那么一共有$n=2^k$数据，Sum Tree一共有$2^{k+1}-1$节点\n",
    "  \n",
    "如果不是完全二叉树：\n",
    "  * 存在$k$, s.t. $2^{k-1}<n, 2^k \\ge n$，此时数据保存在第$k$层，也有可能在$k-1$层\n",
    "  * 假设第$k-1$层有$x$个数据（意味着第$k$层有$n-x$个数据）\n",
    "  * 前$k-1$层排满，有$2^k - 1$个节点，然后第$k$层有$n-x$个数据，一共是$2^k+n-x-1$个节点\n",
    "  * $n-x+2x = 2^k, x = 2^k-n$，一共$2n-1$个节点"
   ]
  },
  {
   "cell_type": "markdown",
   "metadata": {},
   "source": [
    "## 3 Duel Structure\n",
    "\n",
    "Duel Structure本身并没有什么特别的，只是要注意文章中减去max的操作，代码如下"
   ]
  },
  {
   "cell_type": "code",
   "execution_count": 8,
   "metadata": {},
   "outputs": [],
   "source": [
    "import torch\n",
    "import torch.nn as nn\n",
    "import torch.functional as F\n",
    "\n",
    "class Q_Network(nn.Module):\n",
    "\n",
    "    def __init__(self, state_size, action_size, hidden=[64, 64]):\n",
    "        super(Q_Network, self).__init__()\n",
    "        self.fc1 = nn.Linear(state_size, hidden[0])\n",
    "        self.fc2 = nn.Linear(hidden[0], hidden[1])\n",
    "        self.fc3 = nn.Linear(hidden[1], action_size)\n",
    "        self.fc4 = nn.Linear(hidden[1], 1)\n",
    "\n",
    "    def forward(self, state):\n",
    "        x = state\n",
    "        x = F.relu(self.fc1(x))\n",
    "        x = F.relu(self.fc2(x))\n",
    "        x1 = self.fc3(x)\n",
    "        x1 = x1 - torch.max(x1, dim=1, keepdim=True)[0] # set the max to be 0\n",
    "        x2 = self.fc4(x)\n",
    "        return x1 + x2"
   ]
  }
 ],
 "metadata": {
  "colab": {
   "authorship_tag": "ABX9TyMaJPtlMHur6DonwEyZLw5h",
   "collapsed_sections": [],
   "name": "data process and load.ipynb",
   "provenance": []
  },
  "kernelspec": {
   "display_name": "Python 3",
   "language": "python",
   "name": "python3"
  },
  "language_info": {
   "codemirror_mode": {
    "name": "ipython",
    "version": 3
   },
   "file_extension": ".py",
   "mimetype": "text/x-python",
   "name": "python",
   "nbconvert_exporter": "python",
   "pygments_lexer": "ipython3",
   "version": "3.6.8"
  }
 },
 "nbformat": 4,
 "nbformat_minor": 1
}
